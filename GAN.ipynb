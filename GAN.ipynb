{
  "nbformat": 4,
  "nbformat_minor": 0,
  "metadata": {
    "colab": {
      "provenance": [],
      "gpuType": "T4",
      "authorship_tag": "ABX9TyMpBhDFhpbGkAu6acAp+0y+",
      "include_colab_link": true
    },
    "kernelspec": {
      "name": "python3",
      "display_name": "Python 3"
    },
    "language_info": {
      "name": "python"
    },
    "accelerator": "GPU"
  },
  "cells": [
    {
      "cell_type": "markdown",
      "metadata": {
        "id": "view-in-github",
        "colab_type": "text"
      },
      "source": [
        "<a href=\"https://colab.research.google.com/github/ysnarslan/GAN/blob/main/GAN.ipynb\" target=\"_parent\"><img src=\"https://colab.research.google.com/assets/colab-badge.svg\" alt=\"Open In Colab\"/></a>"
      ]
    },
    {
      "cell_type": "code",
      "execution_count": 12,
      "metadata": {
        "id": "7naK4HDOzunr"
      },
      "outputs": [],
      "source": [
        "# import the libraries\n",
        "import torch, pdb\n",
        "from torch.utils.data import DataLoader\n",
        "from torch import nn\n",
        "from torchvision import transforms\n",
        "from torchvision.datasets import MNIST\n",
        "from torchvision.utils import make_grid\n",
        "from tqdm.auto import tqdm\n",
        "import matplotlib.pyplot as plt"
      ]
    },
    {
      "cell_type": "code",
      "source": [
        "# visualization function\n",
        "def show(tensor, ch=1, size=(28, 28), num=16):\n",
        "    # tensor = batch_size (128) x image_size (784)\n",
        "    data = tensor.detach().cpu().view(-1, ch, *size) # 128x1x28x28\n",
        "    grid = make_grid(data[:num], nrows=4).permute(1, 2, 0) #16x1x28x28 -> 16x28x28x1\n",
        "    plt.imshow(grid)\n",
        "    plt.show()"
      ],
      "metadata": {
        "id": "UUaMspR94uoS"
      },
      "execution_count": 13,
      "outputs": []
    },
    {
      "cell_type": "code",
      "source": [
        "# setup of the main parameters and hyperparameters\n",
        "epoch = 500\n",
        "cur_step = 0\n",
        "info_step = 300\n",
        "mean_gen_losa = 0\n",
        "mean_disc_loss = 0\n",
        "\n",
        "z_dim = 64\n",
        "lr = .00001\n",
        "loss_func = nn.BCEWithLogitsLoss()\n",
        "\n",
        "bs = 128\n",
        "device = 'cuda'\n",
        "\n",
        "dataloader = DataLoader(MNIST('', download=True, transform=transforms.ToTensor()), shuffle=True, batch_size=bs)"
      ],
      "metadata": {
        "id": "kv5vuG6VKQrb"
      },
      "execution_count": 14,
      "outputs": []
    },
    {
      "cell_type": "code",
      "source": [
        "# Declare our models\n",
        "\n",
        "## Generator\n",
        "def genBlock(inp, out):\n",
        "    return nn.Sequential(\n",
        "        nn.Linear(inp, out),\n",
        "        nn.BatchNorm1d(out),\n",
        "        nn.ReLU(inplace=True)\n",
        "    )\n",
        "\n",
        "class Generator(nn.Module):\n",
        "    def __init__(self, z_dim=64, i_dim=784, h_dim=128):\n",
        "        super().__init__()\n",
        "        self.gen = nn.Sequential(\n",
        "            genBlock(z_dim, h_dim), # 64, 128\n",
        "            genBlock(h_dim, h_dim*2), # 128, 256\n",
        "            genBlock(h_dim*2, h_dim*4), # 256, 512\n",
        "            genBlock(h_dim*4, h_dim*8), # 512, 1024\n",
        "            nn.Linear(h_dim*8, i_dim), # 1024, 784 (28, 28)\n",
        "            nn.Sigmoid()\n",
        "        )\n",
        "\n",
        "    def forward(self, noise):\n",
        "        return self.gen(noise)\n",
        "\n",
        "def gen_noise(number, z_dim):\n",
        "    return torch.randn(number, z_dim).to(device)\n",
        "\n",
        "\n",
        "\n",
        "## Discriminator\n",
        "def discBlock(inp, out):\n",
        "    return nn.Sequential(\n",
        "        nn.Linear(inp, out),\n",
        "        nn.LeakyReLU(0.2),\n",
        "    )\n",
        "\n",
        "class Discriminator(nn.Module):\n",
        "    def __init__(self, i_dim=784, h_dim=256):\n",
        "        super().__init__()\n",
        "        self.disc = nn.Sequential(\n",
        "            discBlock(i_dim, h_dim*4), # 784, 1024\n",
        "            discBlock(h_dim*4, h_dim*2), # 1024, 512\n",
        "            discBlock(h_dim*2, h_dim), # 512, 256\n",
        "            nn.Linear(h_dim, 1) # 256, 1 (Fake or Real)\n",
        "        )\n",
        "\n",
        "    def forward(self, image):\n",
        "        return self.disc(image)"
      ],
      "metadata": {
        "id": "NEJLOJYrPFnl"
      },
      "execution_count": 15,
      "outputs": []
    },
    {
      "cell_type": "code",
      "source": [
        "gen = Generator(z_dim).to(device)\n",
        "gen_opt = torch.optim.Adam(gen.parameters(), lr=lr)\n",
        "disc = Discriminator().to(device)\n",
        "disc_opt = torch.optim.Adam(disc.parameters(), lr=lr)"
      ],
      "metadata": {
        "id": "SLS3zi3ObOKw"
      },
      "execution_count": 17,
      "outputs": []
    },
    {
      "cell_type": "code",
      "source": [
        "gen"
      ],
      "metadata": {
        "colab": {
          "base_uri": "https://localhost:8080/"
        },
        "id": "5LuHJ_wjcEkB",
        "outputId": "173abad4-b86a-4d5a-86ad-d06bc0d12cf7"
      },
      "execution_count": 18,
      "outputs": [
        {
          "output_type": "execute_result",
          "data": {
            "text/plain": [
              "Generator(\n",
              "  (gen): Sequential(\n",
              "    (0): Sequential(\n",
              "      (0): Linear(in_features=64, out_features=128, bias=True)\n",
              "      (1): BatchNorm1d(128, eps=1e-05, momentum=0.1, affine=True, track_running_stats=True)\n",
              "      (2): ReLU(inplace=True)\n",
              "    )\n",
              "    (1): Sequential(\n",
              "      (0): Linear(in_features=128, out_features=256, bias=True)\n",
              "      (1): BatchNorm1d(256, eps=1e-05, momentum=0.1, affine=True, track_running_stats=True)\n",
              "      (2): ReLU(inplace=True)\n",
              "    )\n",
              "    (2): Sequential(\n",
              "      (0): Linear(in_features=256, out_features=512, bias=True)\n",
              "      (1): BatchNorm1d(512, eps=1e-05, momentum=0.1, affine=True, track_running_stats=True)\n",
              "      (2): ReLU(inplace=True)\n",
              "    )\n",
              "    (3): Sequential(\n",
              "      (0): Linear(in_features=512, out_features=1024, bias=True)\n",
              "      (1): BatchNorm1d(1024, eps=1e-05, momentum=0.1, affine=True, track_running_stats=True)\n",
              "      (2): ReLU(inplace=True)\n",
              "    )\n",
              "    (4): Linear(in_features=1024, out_features=784, bias=True)\n",
              "    (5): Sigmoid()\n",
              "  )\n",
              ")"
            ]
          },
          "metadata": {},
          "execution_count": 18
        }
      ]
    },
    {
      "cell_type": "code",
      "source": [
        "disc"
      ],
      "metadata": {
        "colab": {
          "base_uri": "https://localhost:8080/"
        },
        "id": "pleMZHmUchk2",
        "outputId": "b071969c-c527-4a30-b681-b08abe79bda3"
      },
      "execution_count": 19,
      "outputs": [
        {
          "output_type": "execute_result",
          "data": {
            "text/plain": [
              "Discriminator(\n",
              "  (disc): Sequential(\n",
              "    (0): Sequential(\n",
              "      (0): Linear(in_features=784, out_features=1024, bias=True)\n",
              "      (1): LeakyReLU(negative_slope=0.2)\n",
              "    )\n",
              "    (1): Sequential(\n",
              "      (0): Linear(in_features=1024, out_features=512, bias=True)\n",
              "      (1): LeakyReLU(negative_slope=0.2)\n",
              "    )\n",
              "    (2): Sequential(\n",
              "      (0): Linear(in_features=512, out_features=256, bias=True)\n",
              "      (1): LeakyReLU(negative_slope=0.2)\n",
              "    )\n",
              "    (3): Linear(in_features=256, out_features=1, bias=True)\n",
              "  )\n",
              ")"
            ]
          },
          "metadata": {},
          "execution_count": 19
        }
      ]
    }
  ]
}